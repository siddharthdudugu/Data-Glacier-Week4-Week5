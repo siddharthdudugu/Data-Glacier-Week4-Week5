{
 "cells": [
  {
   "cell_type": "code",
   "execution_count": 1,
   "id": "01ae3c9f",
   "metadata": {},
   "outputs": [
    {
     "name": "stdout",
     "output_type": "stream",
     "text": [
      "Requirement already satisfied: Flask in d:\\anacondainstallation\\lib\\site-packages (1.1.2)\n",
      "Requirement already satisfied: Werkzeug>=0.15 in d:\\anacondainstallation\\lib\\site-packages (from Flask) (2.0.3)\n",
      "Requirement already satisfied: click>=5.1 in d:\\anacondainstallation\\lib\\site-packages (from Flask) (8.0.4)\n",
      "Requirement already satisfied: itsdangerous>=0.24 in d:\\anacondainstallation\\lib\\site-packages (from Flask) (2.0.1)\n",
      "Requirement already satisfied: Jinja2>=2.10.1 in d:\\anacondainstallation\\lib\\site-packages (from Flask) (2.11.3)\n",
      "Requirement already satisfied: colorama in d:\\anacondainstallation\\lib\\site-packages (from click>=5.1->Flask) (0.4.6)\n",
      "Requirement already satisfied: MarkupSafe>=0.23 in d:\\anacondainstallation\\lib\\site-packages (from Jinja2>=2.10.1->Flask) (1.1.1)\n",
      "Note: you may need to restart the kernel to use updated packages.\n"
     ]
    }
   ],
   "source": [
    "#pip install Flask"
   ]
  },
  {
   "cell_type": "code",
   "execution_count": 2,
   "id": "5ece42e8",
   "metadata": {},
   "outputs": [
    {
     "data": {
      "text/plain": [
       "\"from flask import Flask, request, jsonify, render_template\\nimport pickle\\nimport pandas as pd\\nimport numpy as np\\n\\napp = Flask(__name__)\\n\\n# Load the trained linear regression model\\nwith open('beer_pred_model.pkl', 'rb') as f:\\n    model = pickle.load(f)\\n\\n# Define a route for the home page\\n@app.route('/')\\ndef home():\\n    return render_template('index.html')\\n\\n# Define a route for making predictions\\n@app.route('/predict', methods=['POST'])\\ndef predict():\\n    # Get input data from the request\\n    data = request.form.to_dict()\\n    features = [float(data['TemperatureAvg']),\\n                float(data['TemperatureMin']),\\n                float(data['TemperatureMax']),\\n                float(data['Precipitation']),\\n                int(data['Weekend'])]\\n\\n    # Make a prediction using the loaded model\\n    prediction = model.predict([features])\\n\\n    # Return the prediction as JSON\\n    return render_template('prediction', prediction = prediction[0])\\n\\nif __name__ == '__main__':\\n    app.run(debug=True, use_reloader=False)\\n\""
      ]
     },
     "execution_count": 2,
     "metadata": {},
     "output_type": "execute_result"
    }
   ],
   "source": [
    "\"\"\"from flask import Flask, request, jsonify, render_template\n",
    "import pickle\n",
    "import pandas as pd\n",
    "import numpy as np\n",
    "\n",
    "app = Flask(__name__)\n",
    "\n",
    "# Load the trained linear regression model\n",
    "with open('beer_pred_model.pkl', 'rb') as f:\n",
    "    model = pickle.load(f)\n",
    "\n",
    "# Define a route for the home page\n",
    "@app.route('/')\n",
    "def home():\n",
    "    return render_template('index.html')\n",
    "\n",
    "# Define a route for making predictions\n",
    "@app.route('/predict', methods=['POST'])\n",
    "def predict():\n",
    "    # Get input data from the request\n",
    "    data = request.form.to_dict()\n",
    "    features = [float(data['TemperatureAvg']),\n",
    "                float(data['TemperatureMin']),\n",
    "                float(data['TemperatureMax']),\n",
    "                float(data['Precipitation']),\n",
    "                int(data['Weekend'])]\n",
    "\n",
    "    # Make a prediction using the loaded model\n",
    "    prediction = model.predict([features])\n",
    "\n",
    "    # Return the prediction as JSON\n",
    "    return render_template('prediction', prediction = prediction[0])\n",
    "\n",
    "if __name__ == '__main__':\n",
    "    app.run(debug=True, use_reloader=False)\n",
    "\"\"\""
   ]
  },
  {
   "cell_type": "code",
   "execution_count": null,
   "id": "9712fa2c",
   "metadata": {},
   "outputs": [
    {
     "name": "stdout",
     "output_type": "stream",
     "text": [
      " * Serving Flask app \"__main__\" (lazy loading)\n",
      " * Environment: production\n",
      "\u001b[31m   WARNING: This is a development server. Do not use it in a production deployment.\u001b[0m\n",
      "\u001b[2m   Use a production WSGI server instead.\u001b[0m\n",
      " * Debug mode: on\n"
     ]
    },
    {
     "name": "stderr",
     "output_type": "stream",
     "text": [
      " * Running on http://127.0.0.1:5000/ (Press CTRL+C to quit)\n"
     ]
    }
   ],
   "source": [
    "from flask import Flask, render_template, request\n",
    "import pickle\n",
    "import numpy as np\n",
    "\n",
    "app = Flask(__name__, template_folder='templates')\n",
    "\n",
    "# Load the model\n",
    "with open('beer_pred_model.pkl', 'rb') as f:\n",
    "    model = pickle.load(f)\n",
    "\n",
    "@app.route('/')\n",
    "def home():\n",
    "    return render_template('index.html')\n",
    "\n",
    "@app.route('/predict', methods=['POST'])\n",
    "def predict():\n",
    "    features = [float(x) for x in request.form.values()]\n",
    "    final_features = [np.array(features)]\n",
    "    prediction = model.predict(final_features)\n",
    "\n",
    "    predicted_beer_consumption = prediction[0]\n",
    "\n",
    "    return render_template('index.html', prediction_text=f\"Predicted beer consumption: {predicted_beer_consumption:.2f} liters\")\n",
    "\n",
    "if __name__ == \"__main__\":\n",
    "    app.run(debug=True, use_reloader=False)\n"
   ]
  },
  {
   "cell_type": "code",
   "execution_count": null,
   "id": "9abad67a",
   "metadata": {},
   "outputs": [],
   "source": []
  }
 ],
 "metadata": {
  "kernelspec": {
   "display_name": "Python 3 (ipykernel)",
   "language": "python",
   "name": "python3"
  },
  "language_info": {
   "codemirror_mode": {
    "name": "ipython",
    "version": 3
   },
   "file_extension": ".py",
   "mimetype": "text/x-python",
   "name": "python",
   "nbconvert_exporter": "python",
   "pygments_lexer": "ipython3",
   "version": "3.9.7"
  }
 },
 "nbformat": 4,
 "nbformat_minor": 5
}
